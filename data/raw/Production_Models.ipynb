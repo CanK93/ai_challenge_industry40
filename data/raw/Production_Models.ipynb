{
 "cells": [
  {
   "cell_type": "code",
   "execution_count": 5,
   "metadata": {},
   "outputs": [],
   "source": [
    "import pandas as pd\n",
    "import numpy as np\n",
    "import matplotlib.pyplot as plt\n",
    "import seaborn as sns\n",
    "from scipy import stats\n",
    "import os\n",
    "import re\n",
    "%matplotlib inline\n"
   ]
  },
  {
   "cell_type": "code",
   "execution_count": 2,
   "metadata": {},
   "outputs": [],
   "source": [
    "def load_production_data(data_path=\"./\"):\n",
    "    \n",
    "    production_train = []\n",
    "    train_files = sorted(os.listdir(data_path+\"/TrainingDataProduction/TrainingDataProduction\"))\n",
    "    train_files.sort(key=lambda f: int(re.sub('\\D', '', f)))\n",
    "    for file in train_files:\n",
    "        temp = pd.read_csv(data_path+\"/TrainingDataProduction/TrainingDataProduction/\"+file, sep=\";\")\n",
    "        temp[\"ProcessCycle\"] = int(file.split('.')[0])\n",
    "        production_train.append(temp)\n",
    "\n",
    "    production_train = pd.concat(production_train)\n",
    "\n",
    "    production_valid = []\n",
    "    valid_files = sorted(os.listdir(data_path+\"/ValidationDataProduction/ValidationDataProduction\"))\n",
    "    valid_files.sort(key=lambda f: int(re.sub('\\D', '', f)))\n",
    "    for file in valid_files:\n",
    "        temp = pd.read_csv(data_path+\"/ValidationDataProduction/ValidationDataProduction/\"+file, sep=\";\")\n",
    "        temp[\"ProcessCycle\"] = int(file.split('.')[0])\n",
    "        production_valid.append(temp)\n",
    "\n",
    "    production_valid = pd.concat(production_valid)\n",
    "    \n",
    "    production_test = []\n",
    "\n",
    "    test_files = sorted(os.listdir(data_path+\"/EvaluationDataProduction/EvaluationDataProduction\"))\n",
    "    test_files.sort(key=lambda f: int(re.sub('\\D', '', f)))\n",
    "    for file in test_files:\n",
    "        temp = pd.read_csv(data_path+\"/EvaluationDataProduction/EvaluationDataProduction/\"+file, sep=\";\")\n",
    "        temp[\"ProcessCycle\"] = int(file.split('.')[0])\n",
    "        production_test.append(temp)\n",
    "\n",
    "    production_test = pd.concat(production_test)\n",
    "    \n",
    "    cols_with_no_variance_train = []\n",
    "    cols_with_no_variance_valid = []\n",
    "\n",
    "    for col in production_train.columns:\n",
    "        if len(production_train[col].unique()) == 1:\n",
    "            cols_with_no_variance_train.append(col)\n",
    "\n",
    "    for col in production_valid.columns:\n",
    "        if len(production_valid[col].unique()) == 1:\n",
    "            cols_with_no_variance_valid.append(col)\n",
    "\n",
    "    common_cols_with_no_variance = list(set(cols_with_no_variance_train) & set(cols_with_no_variance_valid))\n",
    "\n",
    "    production_train = production_train.drop(common_cols_with_no_variance, axis = 1)\n",
    "    production_valid = production_valid.drop(common_cols_with_no_variance, axis = 1)\n",
    "    production_test = production_test.drop(common_cols_with_no_variance, axis = 1)\n",
    "\n",
    "    production_train[\"Split\"] = \"Train\"\n",
    "    production_valid[\"Split\"] = \"Valid\"\n",
    "    production_test[\"Split\"] = \"Test\"\n",
    "    \n",
    "    \n",
    "    production_train_val_combined = pd.concat([production_train, production_valid]).reset_index(drop=True)\n",
    "    \n",
    "    return production_train_val_combined, production_test"
   ]
  },
  {
   "cell_type": "code",
   "execution_count": 6,
   "metadata": {},
   "outputs": [],
   "source": [
    "df_train, df_test = load_production_data()\n",
    "train, valid = df_train, df_test"
   ]
  },
  {
   "cell_type": "code",
   "execution_count": 7,
   "metadata": {},
   "outputs": [],
   "source": [
    "#Erstellen von Dummies, um numerische Werte zu erhalten\n",
    "split = pd.get_dummies(train['Split'],drop_first=True)\n",
    "\n",
    "train.drop([\"Split\"],axis=1,inplace=True)\n",
    "train = pd.concat([train,split],axis=1)"
   ]
  },
  {
   "cell_type": "code",
   "execution_count": 9,
   "metadata": {},
   "outputs": [],
   "source": [
    "from sklearn.model_selection import train_test_split"
   ]
  },
  {
   "cell_type": "code",
   "execution_count": 10,
   "metadata": {},
   "outputs": [],
   "source": [
    "#Init von Trainings- und Testdaten\n",
    "X_train, X_test, y_train, y_test = train_test_split(train.drop('Valid',axis=1), \n",
    "                                                    train['Valid'], test_size=0.30, \n",
    "                                                    random_state=101)\n",
    "\n",
    "y_train = y_train.values\n",
    "y_test = y_test.values"
   ]
  },
  {
   "cell_type": "code",
   "execution_count": 34,
   "metadata": {},
   "outputs": [
    {
     "name": "stdout",
     "output_type": "stream",
     "text": [
      "<class 'pandas.core.frame.DataFrame'>\n",
      "Int64Index: 51604 entries, 37326 to 45919\n",
      "Data columns (total 87 columns):\n",
      " #   Column                        Non-Null Count  Dtype\n",
      "---  ------                        --------------  -----\n",
      " 0   Timestamp                     51604 non-null  int64\n",
      " 1   I_xAxisDownPos                51604 non-null  int64\n",
      " 2   I_xAxisMiddlePos              51604 non-null  int64\n",
      " 3   I_xAxisUpPos                  51604 non-null  int64\n",
      " 4   I_xBotInPosDischargPickPlace  51604 non-null  int64\n",
      " 5   I_xBottelInPos0               51604 non-null  int64\n",
      " 6   I_xBottelInPos2               51604 non-null  int64\n",
      " 7   I_xBottelInPos4               51604 non-null  int64\n",
      " 8   I_xBottelInPos6               51604 non-null  int64\n",
      " 9   I_xBottelInPos8               51604 non-null  int64\n",
      " 10  I_xBottleAtGateOne            51604 non-null  int64\n",
      " 11  I_xBottleFixIsClosed          51604 non-null  int64\n",
      " 12  I_xBottleFixIsOpen            51604 non-null  int64\n",
      " 13  I_xCamBottleIsFilled          51604 non-null  int64\n",
      " 14  I_xCamCapOnBottle             51604 non-null  int64\n",
      " 15  I_xCamTrigSensor              51604 non-null  int64\n",
      " 16  I_xCapInClaw                  51604 non-null  int64\n",
      " 17  I_xCapInHolder                51604 non-null  int64\n",
      " 18  I_xClawIsDown                 51604 non-null  int64\n",
      " 19  I_xClawIsUp                   51604 non-null  int64\n",
      " 20  I_xDisposerTrigger            51604 non-null  int64\n",
      " 21  I_xFullBottelOnTS1            51604 non-null  int64\n",
      " 22  I_xGate1Closed                51604 non-null  int64\n",
      " 23  I_xHeavyConThere              51604 non-null  int64\n",
      " 24  I_xKeySwitchPos1              51604 non-null  int64\n",
      " 25  I_xKeySwitchPos2              51604 non-null  int64\n",
      " 26  I_xLeftCbFullAtTS1            51604 non-null  int64\n",
      " 27  I_xNotAusPickPlace            51604 non-null  int64\n",
      " 28  I_xOffButtonSta7              51604 non-null  int64\n",
      " 29  I_xOnButtonSta7               51604 non-null  int64\n",
      " 30  I_xOneStepPickPlace           51604 non-null  int64\n",
      " 31  I_xQuitButtonSta7             51604 non-null  int64\n",
      " 32  I_xRotTabSoltInPos            51604 non-null  int64\n",
      " 33  I_xS2B0                       51604 non-null  int64\n",
      " 34  I_xS2B10                      51604 non-null  int64\n",
      " 35  I_xSilo1MinFull               51604 non-null  int64\n",
      " 36  I_xSilo2MinFull               51604 non-null  int64\n",
      " 37  I_xSpinClawIsDown             51604 non-null  int64\n",
      " 38  I_xSpinClawIsOpen             51604 non-null  int64\n",
      " 39  I_xSpinClawIsUp               51604 non-null  int64\n",
      " 40  I_xSpinDriveIsClosed          51604 non-null  int64\n",
      " 41  I_xSpinDriveIsOpened          51604 non-null  int64\n",
      " 42  O_xAspirator1                 51604 non-null  int64\n",
      " 43  O_xAspirator2                 51604 non-null  int64\n",
      " 44  O_xAspirator3                 51604 non-null  int64\n",
      " 45  O_xAspirator4                 51604 non-null  int64\n",
      " 46  O_xAuger                      51604 non-null  int64\n",
      " 47  O_xBottleFillingDisposer      51604 non-null  int64\n",
      " 48  O_xBotTurnToDischargePos      51604 non-null  int64\n",
      " 49  O_xBotTurnToHomePos           51604 non-null  int64\n",
      " 50  O_xCapConveyorBeltOnSta6      51604 non-null  int64\n",
      " 51  O_xCapConveyorBeltRightSta6   51604 non-null  int64\n",
      " 52  O_xClawClose                  51604 non-null  int64\n",
      " 53  O_xClawDriveDown              51604 non-null  int64\n",
      " 54  O_xConveyorBelt               51604 non-null  int64\n",
      " 55  O_xConveyorBeltOneSta6        51604 non-null  int64\n",
      " 56  O_xConveyorBeltTwoSta6        51604 non-null  int64\n",
      " 57  O_xDischargeClawClosing       51604 non-null  int64\n",
      " 58  O_xDischargeClawOpening       51604 non-null  int64\n",
      " 59  O_xFixBottle                  51604 non-null  int64\n",
      " 60  O_xGate1Opening               51604 non-null  int64\n",
      " 61  O_xLinearAxisDriveDown        51604 non-null  int64\n",
      " 62  O_xLinearAxisDriveUp          51604 non-null  int64\n",
      " 63  O_xMainCB1                    51604 non-null  int64\n",
      " 64  O_xMainCB2                    51604 non-null  int64\n",
      " 65  O_xMainCB3                    51604 non-null  int64\n",
      " 66  O_xMuscleTrigger              51604 non-null  int64\n",
      " 67  O_xPowerOnSta4_5              51604 non-null  int64\n",
      " 68  O_xPreasureOffSta4_5          51604 non-null  int64\n",
      " 69  O_xPreasureOnSta4_5           51604 non-null  int64\n",
      " 70  O_xPutCapOnCbPickPlace        51604 non-null  int64\n",
      " 71  O_xResetSta7                  51604 non-null  int64\n",
      " 72  O_xRotaryTableDriveOn         51604 non-null  int64\n",
      " 73  O_xSoftNotAus2Sta7            51604 non-null  int64\n",
      " 74  O_xSpinClawClose              51604 non-null  int64\n",
      " 75  O_xSpinClawDriveDown          51604 non-null  int64\n",
      " 76  O_xSpinDriveClosing           51604 non-null  int64\n",
      " 77  O_xSpinDriveOpening           51604 non-null  int64\n",
      " 78  O_xSt7SpinDriveClosing        51604 non-null  int64\n",
      " 79  O_xSt7SpinDriveOpening        51604 non-null  int64\n",
      " 80  O_xTiggerCamIN                51604 non-null  int64\n",
      " 81  O_xTS1LeftToFilling           51604 non-null  int64\n",
      " 82  O_xTS1RightToStorage          51604 non-null  int64\n",
      " 83  O_xTS2LeftToStorage           51604 non-null  int64\n",
      " 84  O_xTS2RightToFilling          51604 non-null  int64\n",
      " 85  O_xUnlockSta7                 51604 non-null  int64\n",
      " 86  ProcessCycle                  51604 non-null  int64\n",
      "dtypes: int64(87)\n",
      "memory usage: 34.6 MB\n"
     ]
    }
   ],
   "source": [
    "X_train.info()"
   ]
  },
  {
   "cell_type": "code",
   "execution_count": 11,
   "metadata": {},
   "outputs": [
    {
     "name": "stderr",
     "output_type": "stream",
     "text": [
      "Using TensorFlow backend.\n"
     ]
    }
   ],
   "source": [
    "from imblearn.over_sampling import SMOTE"
   ]
  },
  {
   "cell_type": "code",
   "execution_count": 14,
   "metadata": {},
   "outputs": [
    {
     "name": "stdout",
     "output_type": "stream",
     "text": [
      "(51604, 87)\n",
      "(22117, 87)\n",
      "42724 negative samples in the training set\n",
      "8880 positive samples in the training set\n",
      "18236 negative samples in the test set\n",
      "3881 positive samples in the test set\n"
     ]
    }
   ],
   "source": [
    "print(X_train.shape)\n",
    "print(X_test.shape)\n",
    "print(len(y_train[y_train==0]), 'negative samples in the training set')\n",
    "print(len(y_train[y_train==1]), 'positive samples in the training set')\n",
    "print(len(y_test[y_test==0]), 'negative samples in the test set')\n",
    "print(len(y_test[y_test==1]), 'positive samples in the test set')"
   ]
  },
  {
   "cell_type": "code",
   "execution_count": 7,
   "metadata": {},
   "outputs": [
    {
     "name": "stderr",
     "output_type": "stream",
     "text": [
      "C:\\Users\\canka\\Anaconda3\\envs\\Tensorflow\\lib\\site-packages\\ipykernel_launcher.py:8: DataConversionWarning: Data with input dtype uint8, int64, float64 were all converted to float64 by StandardScaler.\n",
      "  \n"
     ]
    }
   ],
   "source": [
    "#Skalierung der numerischen Werte\n",
    "from sklearn.preprocessing import StandardScaler\n",
    "scaler = StandardScaler()\n",
    "# Nur auf Trainingsset fitten.\n",
    "scaler.fit(X_train)\n",
    "# Transformation jedoch auf beide Sets.\n",
    "X_train = pd.DataFrame(scaler.transform(X_train)).values\n",
    "X_test = pd.DataFrame(scaler.transform(X_test)).values"
   ]
  },
  {
   "cell_type": "code",
   "execution_count": 15,
   "metadata": {},
   "outputs": [
    {
     "name": "stdout",
     "output_type": "stream",
     "text": [
      "Model: \"sequential_1\"\n",
      "_________________________________________________________________\n",
      "Layer (type)                 Output Shape              Param #   \n",
      "=================================================================\n",
      "dense_1 (Dense)              (None, 32)                2816      \n",
      "_________________________________________________________________\n",
      "dropout_1 (Dropout)          (None, 32)                0         \n",
      "_________________________________________________________________\n",
      "dense_2 (Dense)              (None, 32)                1056      \n",
      "_________________________________________________________________\n",
      "dropout_2 (Dropout)          (None, 32)                0         \n",
      "_________________________________________________________________\n",
      "dense_3 (Dense)              (None, 1)                 33        \n",
      "=================================================================\n",
      "Total params: 3,905\n",
      "Trainable params: 3,905\n",
      "Non-trainable params: 0\n",
      "_________________________________________________________________\n",
      "None\n"
     ]
    }
   ],
   "source": [
    "from keras.models import Sequential\n",
    "from keras.layers import Dense, Dropout\n",
    "from keras.optimizers import SGD, Adam\n",
    "from keras.regularizers import l2\n",
    "\n",
    "model = Sequential()\n",
    "\n",
    "model.add(Dense(32, input_shape=(X_train.shape[1],), activation='relu')) \n",
    "model.add(Dropout(0.5))\n",
    "model.add(Dense(32, activation='relu'))\n",
    "model.add(Dropout(0.5))\n",
    "model.add(Dense(1, activation='sigmoid'))\n",
    "\n",
    "model.compile(\n",
    "    loss='binary_crossentropy', # loss\n",
    "    optimizer=\"rmsprop\", # learning rule\n",
    "    #optimizer=Adam(), # learning rule\n",
    "    metrics=['accuracy'] # show accuracy\n",
    ")\n",
    "\n",
    "print(model.summary())"
   ]
  },
  {
   "cell_type": "code",
   "execution_count": 16,
   "metadata": {},
   "outputs": [
    {
     "name": "stdout",
     "output_type": "stream",
     "text": [
      "Train on 41283 samples, validate on 10321 samples\n",
      "Epoch 1/20\n",
      "41283/41283 [==============================] - 1s 21us/step - loss: 864.0542 - accuracy: 0.7110 - val_loss: 0.6371 - val_accuracy: 0.8227\n",
      "Epoch 2/20\n",
      "41283/41283 [==============================] - 1s 16us/step - loss: 2.4400 - accuracy: 0.8052 - val_loss: 0.5620 - val_accuracy: 0.8227\n",
      "Epoch 3/20\n",
      "41283/41283 [==============================] - 1s 16us/step - loss: 0.5937 - accuracy: 0.8266 - val_loss: 0.5012 - val_accuracy: 0.8227\n",
      "Epoch 4/20\n",
      "41283/41283 [==============================] - 1s 17us/step - loss: 0.4942 - accuracy: 0.8291 - val_loss: 0.4811 - val_accuracy: 0.8227\n",
      "Epoch 5/20\n",
      "41283/41283 [==============================] - 1s 15us/step - loss: 0.4673 - accuracy: 0.8292 - val_loss: 0.4703 - val_accuracy: 0.8227\n",
      "Epoch 6/20\n",
      "41283/41283 [==============================] - 1s 16us/step - loss: 0.4759 - accuracy: 0.8292 - val_loss: 0.4672 - val_accuracy: 0.8227\n",
      "Epoch 7/20\n",
      "41283/41283 [==============================] - 1s 18us/step - loss: 0.4739 - accuracy: 0.8291 - val_loss: 0.4438 - val_accuracy: 0.8227\n",
      "Epoch 8/20\n",
      "41283/41283 [==============================] - 1s 18us/step - loss: 0.5181 - accuracy: 0.8292 - val_loss: 0.4669 - val_accuracy: 0.8227\n",
      "Epoch 9/20\n",
      "41283/41283 [==============================] - 1s 15us/step - loss: 0.4985 - accuracy: 0.8292 - val_loss: 0.4667 - val_accuracy: 0.8227\n",
      "Epoch 10/20\n",
      "41283/41283 [==============================] - 1s 16us/step - loss: 0.5328 - accuracy: 0.8292 - val_loss: 0.4666 - val_accuracy: 0.8227\n",
      "Epoch 11/20\n",
      "41283/41283 [==============================] - 1s 16us/step - loss: 0.5123 - accuracy: 0.8292 - val_loss: 0.4666 - val_accuracy: 0.8227\n",
      "Epoch 12/20\n",
      "41283/41283 [==============================] - 1s 17us/step - loss: 0.5765 - accuracy: 0.8289 - val_loss: 0.4661 - val_accuracy: 0.8227\n",
      "Epoch 13/20\n",
      "41283/41283 [==============================] - 1s 16us/step - loss: 0.5127 - accuracy: 0.8292 - val_loss: 0.4665 - val_accuracy: 0.8227\n",
      "Epoch 14/20\n",
      "41283/41283 [==============================] - 1s 18us/step - loss: 0.5298 - accuracy: 0.8290 - val_loss: 0.4662 - val_accuracy: 0.8227\n",
      "Epoch 15/20\n",
      "41283/41283 [==============================] - 1s 21us/step - loss: 0.5902 - accuracy: 0.8288 - val_loss: 0.4665 - val_accuracy: 0.8227\n",
      "Epoch 16/20\n",
      "41283/41283 [==============================] - 1s 24us/step - loss: 0.5004 - accuracy: 0.8291 - val_loss: 0.4663 - val_accuracy: 0.8227\n",
      "Epoch 17/20\n",
      "41283/41283 [==============================] - 1s 24us/step - loss: 0.5831 - accuracy: 0.8290 - val_loss: 0.4661 - val_accuracy: 0.8227\n",
      "Epoch 18/20\n",
      "41283/41283 [==============================] - 1s 23us/step - loss: 0.5491 - accuracy: 0.8281 - val_loss: 0.4617 - val_accuracy: 0.8227\n",
      "Epoch 19/20\n",
      "41283/41283 [==============================] - 1s 24us/step - loss: 0.5191 - accuracy: 0.8285 - val_loss: 0.4650 - val_accuracy: 0.8227\n",
      "Epoch 20/20\n",
      "41283/41283 [==============================] - 1s 24us/step - loss: 0.5394 - accuracy: 0.8278 - val_loss: 0.4648 - val_accuracy: 0.8227\n"
     ]
    },
    {
     "data": {
      "text/plain": [
       "<keras.callbacks.callbacks.History at 0x1cbd9b5af70>"
      ]
     },
     "execution_count": 16,
     "metadata": {},
     "output_type": "execute_result"
    }
   ],
   "source": [
    "# Train the linear classifier on the extracted features\n",
    "model.fit(x=X_train, y=y_train, batch_size=128, epochs=20, validation_split=0.2)"
   ]
  },
  {
   "cell_type": "code",
   "execution_count": 17,
   "metadata": {},
   "outputs": [],
   "source": [
    "from sklearn.metrics import roc_curve, auc\n",
    "from sklearn import metrics"
   ]
  },
  {
   "cell_type": "code",
   "execution_count": 18,
   "metadata": {},
   "outputs": [],
   "source": [
    "def evaluation(predictions):\n",
    "    #Auswertung durch Confusion Matrix und dem Built-In Report von Sklearn\n",
    "    cnf_matrix = metrics.confusion_matrix(y_test,predictions)\n",
    "    print(cnf_matrix)\n",
    "    print(\"\\n\")\n",
    "    print(metrics.classification_report(y_test, predictions))\n",
    "\n",
    "    class_names=[0,1] # name  of classes\n",
    "    fig, ax = plt.subplots()\n",
    "    tick_marks = np.arange(len(class_names))\n",
    "    plt.xticks(tick_marks, class_names)\n",
    "    plt.yticks(tick_marks, class_names)\n",
    "    # create heatmap\n",
    "    sns.heatmap(pd.DataFrame(cnf_matrix), annot=True, cmap=\"YlGnBu\" ,fmt='g')\n",
    "    ax.xaxis.set_label_position(\"top\")\n",
    "    plt.tight_layout()\n",
    "    plt.title('Confusion matrix', y=1.1)\n",
    "    plt.ylabel('Actual label')\n",
    "    plt.xlabel('Predicted label')\n",
    "\n"
   ]
  },
  {
   "cell_type": "code",
   "execution_count": 19,
   "metadata": {},
   "outputs": [],
   "source": [
    "\n",
    "y_pred_keras = model.predict(X_test).ravel()\n",
    "fpr_keras, tpr_keras, thresholds_keras = roc_curve(y_test, y_pred_keras)\n",
    "auc_keras = auc(fpr_keras, tpr_keras)"
   ]
  },
  {
   "cell_type": "code",
   "execution_count": 20,
   "metadata": {},
   "outputs": [],
   "source": [
    "from sklearn.ensemble import RandomForestClassifier\n",
    "# Supervised transformation based on random forests\n",
    "rf = RandomForestClassifier(max_depth=5, n_estimators=10)\n",
    "rf.fit(X_train, y_train)\n",
    "\n",
    "y_pred_rf = rf.predict_proba(X_test)[:, 1]\n",
    "fpr_rf, tpr_rf, thresholds_rf = roc_curve(y_test, y_pred_rf)\n",
    "auc_rf = auc(fpr_rf, tpr_rf)"
   ]
  },
  {
   "cell_type": "code",
   "execution_count": 21,
   "metadata": {},
   "outputs": [
    {
     "data": {
      "text/plain": [
       "GaussianNB(priors=None, var_smoothing=1e-09)"
      ]
     },
     "execution_count": 21,
     "metadata": {},
     "output_type": "execute_result"
    }
   ],
   "source": [
    "from sklearn.naive_bayes import GaussianNB\n",
    "model_naive = GaussianNB()\n",
    "model_naive.fit(X_train, y_train)\n",
    "\n",
    "\n"
   ]
  },
  {
   "cell_type": "code",
   "execution_count": 22,
   "metadata": {},
   "outputs": [],
   "source": [
    "y_pred_nb = model_naive.predict_proba(X_test)[:, 1]\n",
    "fpr_nb, tpr_nb, thresholds_nb = roc_curve(y_test, y_pred_nb)\n",
    "auc_nb = auc(fpr_nb, tpr_nb)"
   ]
  },
  {
   "cell_type": "code",
   "execution_count": 23,
   "metadata": {},
   "outputs": [],
   "source": [
    "from sklearn.neural_network import MLPClassifier"
   ]
  },
  {
   "cell_type": "code",
   "execution_count": 24,
   "metadata": {},
   "outputs": [
    {
     "data": {
      "text/plain": [
       "MLPClassifier(activation='logistic', alpha=0.0001, batch_size='auto',\n",
       "              beta_1=0.9, beta_2=0.999, early_stopping=False, epsilon=1e-08,\n",
       "              hidden_layer_sizes=(100,), learning_rate='constant',\n",
       "              learning_rate_init=0.001, max_fun=15000, max_iter=200,\n",
       "              momentum=0.9, n_iter_no_change=10, nesterovs_momentum=True,\n",
       "              power_t=0.5, random_state=None, shuffle=True, solver='adam',\n",
       "              tol=0.0001, validation_fraction=0.1, verbose=False,\n",
       "              warm_start=False)"
      ]
     },
     "execution_count": 24,
     "metadata": {},
     "output_type": "execute_result"
    }
   ],
   "source": [
    "mlp = MLPClassifier(activation=\"logistic\")\n",
    "mlp.fit(X_train,y_train)"
   ]
  },
  {
   "cell_type": "code",
   "execution_count": 25,
   "metadata": {},
   "outputs": [],
   "source": [
    "y_pred_mlp = mlp.predict_proba(X_test)[:, 1]\n",
    "fpr_mlp, tpr_mlp, thresholds_mlp = roc_curve(y_test, y_pred_mlp)\n",
    "auc_mlp = auc(fpr_mlp, tpr_mlp)"
   ]
  },
  {
   "cell_type": "code",
   "execution_count": 26,
   "metadata": {},
   "outputs": [],
   "source": [
    "from sklearn.linear_model import LogisticRegression"
   ]
  },
  {
   "cell_type": "code",
   "execution_count": 28,
   "metadata": {},
   "outputs": [
    {
     "data": {
      "text/plain": [
       "LogisticRegression(C=1.0, class_weight='balanced', dual=False,\n",
       "                   fit_intercept=True, intercept_scaling=1, l1_ratio=None,\n",
       "                   max_iter=100, multi_class='auto', n_jobs=None, penalty='l2',\n",
       "                   random_state=None, solver='lbfgs', tol=0.0001, verbose=0,\n",
       "                   warm_start=False)"
      ]
     },
     "execution_count": 28,
     "metadata": {},
     "output_type": "execute_result"
    }
   ],
   "source": [
    "#Erstellen und Fitten des Modells auf Trainingsdaten\n",
    "logmodel = LogisticRegression(penalty=\"l2\", class_weight=\"balanced\")\n",
    "#logmodel = LogisticRegressionCV(cv= 5, class_weight=\"balanced\")\n",
    "logmodel.fit(X_train,y_train)"
   ]
  },
  {
   "cell_type": "code",
   "execution_count": 29,
   "metadata": {},
   "outputs": [],
   "source": [
    "y_pred_log = logmodel.predict_proba(X_test)[:, 1]\n",
    "fpr_log, tpr_log, thresholds_log = roc_curve(y_test, y_pred_log)\n",
    "auc_log = auc(fpr_log, tpr_log)"
   ]
  },
  {
   "cell_type": "code",
   "execution_count": 76,
   "metadata": {},
   "outputs": [
    {
     "data": {
      "image/png": "[encoded data removed]",
      "text/plain": [
       "<Figure size 1440x720 with 1 Axes>"
      ]
     },
     "metadata": {
      "needs_background": "light"
     },
     "output_type": "display_data"
    }
   ],
   "source": [
    "plt.figure(figsize = (20, 10))\n",
    "plt.plot([0, 1], [0, 1], 'k--')\n",
    "#plt.plot(fpr_keras, tpr_keras, label='Keras (area = {:.3f})'.format(auc_keras))\n",
    "plt.plot(fpr_rf, tpr_rf, \"b\", label='RF (area = {:.3f})'.format(auc_rf))\n",
    "plt.plot(fpr_nb, tpr_nb, \"g\", label='Naive (area = {:.3f})'.format(auc_nb))\n",
    "plt.plot(fpr_mlp, tpr_mlp, \"r\", label='MLP (area = {:.3f})'.format(auc_mlp))\n",
    "plt.plot(fpr_log, tpr_log, \"c\", label='LogReg (area = {:.3f})'.format(auc_log))\n",
    "plt.plot(fpr_keras, tpr_keras, \"m\", label='Keras (area = {:.3f})'.format(auc_keras))\n",
    "plt.xlabel('False positive rate')\n",
    "plt.ylabel('True positive rate')\n",
    "plt.title('ROC Kurve - SMOTE')\n",
    "plt.legend(loc='best')\n",
    "plt.savefig('roc_prod.png')\n",
    "plt.show()\n",
    "\n"
   ]
  },
  {
   "cell_type": "code",
   "execution_count": 36,
   "metadata": {},
   "outputs": [],
   "source": [
    "valid = valid.drop([\"Split\"], axis = 1)"
   ]
  },
  {
   "cell_type": "code",
   "execution_count": 45,
   "metadata": {},
   "outputs": [],
   "source": [
    "predicted_valid = rf.predict_proba(valid)\n"
   ]
  },
  {
   "cell_type": "code",
   "execution_count": 43,
   "metadata": {},
   "outputs": [],
   "source": [
    "def Find_Optimal_Cutoff(target, predicted):\n",
    "    fpr, tpr, threshold = roc_curve(target, predicted)\n",
    "    i = np.arange(len(tpr)) \n",
    "    roc = pd.DataFrame({'tf' : pd.Series(tpr-(1-fpr), index=i), 'threshold' : pd.Series(threshold, index=i)})\n",
    "    roc_t = roc.iloc[(roc.tf-0).abs().argsort()[:1]]\n",
    "\n",
    "    return list(roc_t['threshold']) \n",
    "\n",
    "threshold = Find_Optimal_Cutoff(y_test, y_pred_rf)"
   ]
  },
  {
   "cell_type": "code",
   "execution_count": 56,
   "metadata": {},
   "outputs": [],
   "source": [
    "valid[\"predicted\"] = predicted_valid[:,1]"
   ]
  },
  {
   "cell_type": "code",
   "execution_count": 61,
   "metadata": {},
   "outputs": [],
   "source": [
    "threshold = float(threshold[0])"
   ]
  },
  {
   "cell_type": "code",
   "execution_count": 62,
   "metadata": {},
   "outputs": [],
   "source": [
    "#valid[\"predicted\"] = predicted_valid\n",
    "\n",
    "valid[\"Label\"] = [\"True\" if x > threshold else \"False\" for x in valid[\"predicted\"]]\n",
    "\n",
    "#[1500 if x =='Music' else 800 for x in df['Event']] "
   ]
  },
  {
   "cell_type": "code",
   "execution_count": 64,
   "metadata": {},
   "outputs": [
    {
     "data": {
      "text/plain": [
       "False    54590\n",
       "True     19795\n",
       "Name: Label, dtype: int64"
      ]
     },
     "execution_count": 64,
     "metadata": {},
     "output_type": "execute_result"
    }
   ],
   "source": [
    "valid[\"Label\"].value_counts()"
   ]
  },
  {
   "cell_type": "code",
   "execution_count": 65,
   "metadata": {},
   "outputs": [],
   "source": [
    "new_df = valid[[\"Label\", \"predicted\", \"ProcessCycle\"]]"
   ]
  },
  {
   "cell_type": "code",
   "execution_count": 67,
   "metadata": {},
   "outputs": [],
   "source": [
    "true = new_df[new_df[\"Label\"]==\"True\"]"
   ]
  },
  {
   "cell_type": "code",
   "execution_count": 74,
   "metadata": {},
   "outputs": [
    {
     "data": {
      "text/plain": [
       "5     4186\n",
       "1     3275\n",
       "24    3016\n",
       "4     2549\n",
       "3     2508\n",
       "2     2355\n",
       "22     975\n",
       "17     796\n",
       "12      92\n",
       "6       13\n",
       "14       6\n",
       "9        6\n",
       "21       6\n",
       "20       6\n",
       "7        3\n",
       "18       3\n",
       "Name: ProcessCycle, dtype: int64"
      ]
     },
     "execution_count": 74,
     "metadata": {},
     "output_type": "execute_result"
    }
   ],
   "source": [
    "true[\"ProcessCycle\"].value_counts()"
   ]
  }
 ],
 "metadata": {
  "kernelspec": {
   "display_name": "Python 3",
   "language": "python",
   "name": "python3"
  },
  "language_info": {
   "codemirror_mode": {
    "name": "ipython",
    "version": 3
   },
   "file_extension": ".py",
   "mimetype": "text/x-python",
   "name": "python",
   "nbconvert_exporter": "python",
   "pygments_lexer": "ipython3",
   "version": "3.8.3"
  }
 },
 "nbformat": 4,
 "nbformat_minor": 4
}

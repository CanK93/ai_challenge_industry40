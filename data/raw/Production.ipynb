{
 "cells": [
  {
   "cell_type": "code",
   "execution_count": 24,
   "metadata": {},
   "outputs": [],
   "source": [
    "#Libraries\n",
    "import pandas as pd\n",
    "import numpy as np\n",
    "import matplotlib.pyplot as plt\n",
    "import seaborn as sns\n",
    "from scipy import stats\n",
    "import os\n",
    "import re\n",
    "%matplotlib inline"
   ]
  },
  {
   "cell_type": "code",
   "execution_count": 25,
   "metadata": {},
   "outputs": [],
   "source": [
    "def load_production_data(data_path=\"./\"):\n",
    "    \n",
    "    production_train = []\n",
    "    train_files = sorted(os.listdir(data_path+\"/TrainingDataProduction/TrainingDataProduction\"))\n",
    "    train_files.sort(key=lambda f: int(re.sub('\\D', '', f)))\n",
    "    for file in train_files:\n",
    "        temp = pd.read_csv(data_path+\"/TrainingDataProduction/TrainingDataProduction/\"+file, sep=\";\")\n",
    "        temp[\"ProcessCycle\"] = int(file.split('.')[0])\n",
    "        production_train.append(temp)\n",
    "\n",
    "    production_train = pd.concat(production_train)\n",
    "\n",
    "    production_valid = []\n",
    "    valid_files = sorted(os.listdir(data_path+\"/ValidationDataProduction/ValidationDataProduction\"))\n",
    "    valid_files.sort(key=lambda f: int(re.sub('\\D', '', f)))\n",
    "    for file in valid_files:\n",
    "        temp = pd.read_csv(data_path+\"/ValidationDataProduction/ValidationDataProduction/\"+file, sep=\";\")\n",
    "        temp[\"ProcessCycle\"] = int(file.split('.')[0])\n",
    "        production_valid.append(temp)\n",
    "\n",
    "    production_valid = pd.concat(production_valid)\n",
    "    \n",
    "    production_test = []\n",
    "\n",
    "    test_files = sorted(os.listdir(data_path+\"/EvaluationDataProduction/EvaluationDataProduction\"))\n",
    "    test_files.sort(key=lambda f: int(re.sub('\\D', '', f)))\n",
    "    for file in test_files:\n",
    "        temp = pd.read_csv(data_path+\"/EvaluationDataProduction/EvaluationDataProduction/\"+file, sep=\";\")\n",
    "        temp[\"ProcessCycle\"] = int(file.split('.')[0])\n",
    "        production_test.append(temp)\n",
    "\n",
    "    production_test = pd.concat(production_test)\n",
    "    \n",
    "    cols_with_no_variance_train = []\n",
    "    cols_with_no_variance_valid = []\n",
    "\n",
    "    for col in production_train.columns:\n",
    "        if len(production_train[col].unique()) == 1:\n",
    "            cols_with_no_variance_train.append(col)\n",
    "\n",
    "    for col in production_valid.columns:\n",
    "        if len(production_valid[col].unique()) == 1:\n",
    "            cols_with_no_variance_valid.append(col)\n",
    "\n",
    "    common_cols_with_no_variance = list(set(cols_with_no_variance_train) & set(cols_with_no_variance_valid))\n",
    "\n",
    "    production_train = production_train.drop(common_cols_with_no_variance, axis = 1)\n",
    "    production_valid = production_valid.drop(common_cols_with_no_variance, axis = 1)\n",
    "    production_test = production_test.drop(common_cols_with_no_variance, axis = 1)\n",
    "\n",
    "    production_train[\"Split\"] = \"Train\"\n",
    "    production_valid[\"Split\"] = \"Valid\"\n",
    "    production_test[\"Split\"] = \"Test\"\n",
    "    \n",
    "    \n",
    "    production_train_val_combined = pd.concat([production_train, production_valid]).reset_index(drop=True)\n",
    "    \n",
    "    return production_train_val_combined, production_test"
   ]
  },
  {
   "cell_type": "code",
   "execution_count": 26,
   "metadata": {},
   "outputs": [],
   "source": [
    "df_train, df_test = load_production_data()\n",
    "\n"
   ]
  },
  {
   "cell_type": "code",
   "execution_count": 27,
   "metadata": {},
   "outputs": [],
   "source": [
    "train, valid = df_train, df_test"
   ]
  },
  {
   "cell_type": "code",
   "execution_count": 28,
   "metadata": {},
   "outputs": [],
   "source": [
    "#Erstellen von Dummies, um numerische Werte zu erhalten\n",
    "split = pd.get_dummies(train['Split'],drop_first=True)\n",
    "\n",
    "train.drop([\"Split\"],axis=1,inplace=True)\n",
    "train = pd.concat([train,split],axis=1)"
   ]
  },
  {
   "cell_type": "code",
   "execution_count": 29,
   "metadata": {},
   "outputs": [
    {
     "name": "stdout",
     "output_type": "stream",
     "text": [
      "<class 'pandas.core.frame.DataFrame'>\n",
      "RangeIndex: 73721 entries, 0 to 73720\n",
      "Data columns (total 88 columns):\n",
      " #   Column                        Non-Null Count  Dtype\n",
      "---  ------                        --------------  -----\n",
      " 0   Timestamp                     73721 non-null  int64\n",
      " 1   I_xAxisDownPos                73721 non-null  int64\n",
      " 2   I_xAxisMiddlePos              73721 non-null  int64\n",
      " 3   I_xAxisUpPos                  73721 non-null  int64\n",
      " 4   I_xBotInPosDischargPickPlace  73721 non-null  int64\n",
      " 5   I_xBottelInPos0               73721 non-null  int64\n",
      " 6   I_xBottelInPos2               73721 non-null  int64\n",
      " 7   I_xBottelInPos4               73721 non-null  int64\n",
      " 8   I_xBottelInPos6               73721 non-null  int64\n",
      " 9   I_xBottelInPos8               73721 non-null  int64\n",
      " 10  I_xBottleAtGateOne            73721 non-null  int64\n",
      " 11  I_xBottleFixIsClosed          73721 non-null  int64\n",
      " 12  I_xBottleFixIsOpen            73721 non-null  int64\n",
      " 13  I_xCamBottleIsFilled          73721 non-null  int64\n",
      " 14  I_xCamCapOnBottle             73721 non-null  int64\n",
      " 15  I_xCamTrigSensor              73721 non-null  int64\n",
      " 16  I_xCapInClaw                  73721 non-null  int64\n",
      " 17  I_xCapInHolder                73721 non-null  int64\n",
      " 18  I_xClawIsDown                 73721 non-null  int64\n",
      " 19  I_xClawIsUp                   73721 non-null  int64\n",
      " 20  I_xDisposerTrigger            73721 non-null  int64\n",
      " 21  I_xFullBottelOnTS1            73721 non-null  int64\n",
      " 22  I_xGate1Closed                73721 non-null  int64\n",
      " 23  I_xHeavyConThere              73721 non-null  int64\n",
      " 24  I_xKeySwitchPos1              73721 non-null  int64\n",
      " 25  I_xKeySwitchPos2              73721 non-null  int64\n",
      " 26  I_xLeftCbFullAtTS1            73721 non-null  int64\n",
      " 27  I_xNotAusPickPlace            73721 non-null  int64\n",
      " 28  I_xOffButtonSta7              73721 non-null  int64\n",
      " 29  I_xOnButtonSta7               73721 non-null  int64\n",
      " 30  I_xOneStepPickPlace           73721 non-null  int64\n",
      " 31  I_xQuitButtonSta7             73721 non-null  int64\n",
      " 32  I_xRotTabSoltInPos            73721 non-null  int64\n",
      " 33  I_xS2B0                       73721 non-null  int64\n",
      " 34  I_xS2B10                      73721 non-null  int64\n",
      " 35  I_xSilo1MinFull               73721 non-null  int64\n",
      " 36  I_xSilo2MinFull               73721 non-null  int64\n",
      " 37  I_xSpinClawIsDown             73721 non-null  int64\n",
      " 38  I_xSpinClawIsOpen             73721 non-null  int64\n",
      " 39  I_xSpinClawIsUp               73721 non-null  int64\n",
      " 40  I_xSpinDriveIsClosed          73721 non-null  int64\n",
      " 41  I_xSpinDriveIsOpened          73721 non-null  int64\n",
      " 42  O_xAspirator1                 73721 non-null  int64\n",
      " 43  O_xAspirator2                 73721 non-null  int64\n",
      " 44  O_xAspirator3                 73721 non-null  int64\n",
      " 45  O_xAspirator4                 73721 non-null  int64\n",
      " 46  O_xAuger                      73721 non-null  int64\n",
      " 47  O_xBottleFillingDisposer      73721 non-null  int64\n",
      " 48  O_xBotTurnToDischargePos      73721 non-null  int64\n",
      " 49  O_xBotTurnToHomePos           73721 non-null  int64\n",
      " 50  O_xCapConveyorBeltOnSta6      73721 non-null  int64\n",
      " 51  O_xCapConveyorBeltRightSta6   73721 non-null  int64\n",
      " 52  O_xClawClose                  73721 non-null  int64\n",
      " 53  O_xClawDriveDown              73721 non-null  int64\n",
      " 54  O_xConveyorBelt               73721 non-null  int64\n",
      " 55  O_xConveyorBeltOneSta6        73721 non-null  int64\n",
      " 56  O_xConveyorBeltTwoSta6        73721 non-null  int64\n",
      " 57  O_xDischargeClawClosing       73721 non-null  int64\n",
      " 58  O_xDischargeClawOpening       73721 non-null  int64\n",
      " 59  O_xFixBottle                  73721 non-null  int64\n",
      " 60  O_xGate1Opening               73721 non-null  int64\n",
      " 61  O_xLinearAxisDriveDown        73721 non-null  int64\n",
      " 62  O_xLinearAxisDriveUp          73721 non-null  int64\n",
      " 63  O_xMainCB1                    73721 non-null  int64\n",
      " 64  O_xMainCB2                    73721 non-null  int64\n",
      " 65  O_xMainCB3                    73721 non-null  int64\n",
      " 66  O_xMuscleTrigger              73721 non-null  int64\n",
      " 67  O_xPowerOnSta4_5              73721 non-null  int64\n",
      " 68  O_xPreasureOffSta4_5          73721 non-null  int64\n",
      " 69  O_xPreasureOnSta4_5           73721 non-null  int64\n",
      " 70  O_xPutCapOnCbPickPlace        73721 non-null  int64\n",
      " 71  O_xResetSta7                  73721 non-null  int64\n",
      " 72  O_xRotaryTableDriveOn         73721 non-null  int64\n",
      " 73  O_xSoftNotAus2Sta7            73721 non-null  int64\n",
      " 74  O_xSpinClawClose              73721 non-null  int64\n",
      " 75  O_xSpinClawDriveDown          73721 non-null  int64\n",
      " 76  O_xSpinDriveClosing           73721 non-null  int64\n",
      " 77  O_xSpinDriveOpening           73721 non-null  int64\n",
      " 78  O_xSt7SpinDriveClosing        73721 non-null  int64\n",
      " 79  O_xSt7SpinDriveOpening        73721 non-null  int64\n",
      " 80  O_xTiggerCamIN                73721 non-null  int64\n",
      " 81  O_xTS1LeftToFilling           73721 non-null  int64\n",
      " 82  O_xTS1RightToStorage          73721 non-null  int64\n",
      " 83  O_xTS2LeftToStorage           73721 non-null  int64\n",
      " 84  O_xTS2RightToFilling          73721 non-null  int64\n",
      " 85  O_xUnlockSta7                 73721 non-null  int64\n",
      " 86  ProcessCycle                  73721 non-null  int64\n",
      " 87  Valid                         73721 non-null  uint8\n",
      "dtypes: int64(87), uint8(1)\n",
      "memory usage: 49.0 MB\n"
     ]
    }
   ],
   "source": [
    "train.info()"
   ]
  },
  {
   "cell_type": "code",
   "execution_count": 30,
   "metadata": {},
   "outputs": [],
   "source": [
    "from sklearn.model_selection import train_test_split"
   ]
  },
  {
   "cell_type": "code",
   "execution_count": 33,
   "metadata": {},
   "outputs": [],
   "source": [
    "#Init von Trainings- und Testdaten\n",
    "X_train, X_test, y_train, y_test = train_test_split(train.drop('Valid',axis=1), \n",
    "                                                    train['Valid'], test_size=0.30, \n",
    "                                                    random_state=101)\n",
    "\n",
    "y_train = y_train.values\n",
    "y_test = y_test.values"
   ]
  },
  {
   "cell_type": "code",
   "execution_count": 34,
   "metadata": {},
   "outputs": [
    {
     "ename": "TypeError",
     "evalue": "__init__() got an unexpected keyword argument 'ratio'",
     "output_type": "error",
     "traceback": [
      "\u001b[1;31m---------------------------------------------------------------------------\u001b[0m",
      "\u001b[1;31mTypeError\u001b[0m                                 Traceback (most recent call last)",
      "\u001b[1;32m<ipython-input-34-3654ed0267bd>\u001b[0m in \u001b[0;36m<module>\u001b[1;34m\u001b[0m\n\u001b[0;32m      1\u001b[0m \u001b[1;32mfrom\u001b[0m \u001b[0mimblearn\u001b[0m\u001b[1;33m.\u001b[0m\u001b[0mover_sampling\u001b[0m \u001b[1;32mimport\u001b[0m \u001b[0mSMOTE\u001b[0m\u001b[1;33m\u001b[0m\u001b[1;33m\u001b[0m\u001b[0m\n\u001b[0;32m      2\u001b[0m \u001b[1;33m\u001b[0m\u001b[0m\n\u001b[1;32m----> 3\u001b[1;33m \u001b[0msm\u001b[0m \u001b[1;33m=\u001b[0m \u001b[0mSMOTE\u001b[0m\u001b[1;33m(\u001b[0m\u001b[0mrandom_state\u001b[0m\u001b[1;33m=\u001b[0m\u001b[1;36m12\u001b[0m\u001b[1;33m,\u001b[0m \u001b[0mratio\u001b[0m \u001b[1;33m=\u001b[0m \u001b[1;36m1.0\u001b[0m\u001b[1;33m)\u001b[0m\u001b[1;33m\u001b[0m\u001b[1;33m\u001b[0m\u001b[0m\n\u001b[0m\u001b[0;32m      4\u001b[0m \u001b[0mX_train\u001b[0m\u001b[1;33m,\u001b[0m \u001b[0my_train\u001b[0m \u001b[1;33m=\u001b[0m \u001b[0msm\u001b[0m\u001b[1;33m.\u001b[0m\u001b[0mfit_sample\u001b[0m\u001b[1;33m(\u001b[0m\u001b[0mX_train\u001b[0m\u001b[1;33m,\u001b[0m \u001b[0my_train\u001b[0m\u001b[1;33m)\u001b[0m\u001b[1;33m\u001b[0m\u001b[1;33m\u001b[0m\u001b[0m\n\u001b[0;32m      5\u001b[0m \u001b[1;33m\u001b[0m\u001b[0m\n",
      "\u001b[1;31mTypeError\u001b[0m: __init__() got an unexpected keyword argument 'ratio'"
     ]
    }
   ],
   "source": [
    "from imblearn.over_sampling import SMOTE\n",
    "\n",
    "sm = SMOTE(random_state=12, ratio = 1.0)\n",
    "X_train, y_train = sm.fit_sample(X_train, y_train)\n",
    "\n",
    "print(X_train.shape)\n",
    "print(X_test.shape)\n",
    "print(len(y_train[y_train==0]), 'negative samples in the training set')\n",
    "print(len(y_train[y_train==1]), 'positive samples in the training set')\n",
    "print(len(y_test[y_test==0]), 'negative samples in the test set')\n",
    "print(len(y_test[y_test==1]), 'positive samples in the test set')"
   ]
  },
  {
   "cell_type": "code",
   "execution_count": 9,
   "metadata": {},
   "outputs": [],
   "source": [
    "#Principal Component Analysis für die Dimensionsreduktion\n",
    "from sklearn.decomposition import PCA\n",
    "# Make an instance of the Model\n",
    "pca = PCA(n_components = 2)\n",
    "pca_2d = pca.fit_transform(X_train)"
   ]
  },
  {
   "cell_type": "code",
   "execution_count": 35,
   "metadata": {},
   "outputs": [
    {
     "name": "stdout",
     "output_type": "stream",
     "text": [
      "<class 'pandas.core.frame.DataFrame'>\n",
      "Int64Index: 51604 entries, 37326 to 45919\n",
      "Data columns (total 87 columns):\n",
      " #   Column                        Non-Null Count  Dtype\n",
      "---  ------                        --------------  -----\n",
      " 0   Timestamp                     51604 non-null  int64\n",
      " 1   I_xAxisDownPos                51604 non-null  int64\n",
      " 2   I_xAxisMiddlePos              51604 non-null  int64\n",
      " 3   I_xAxisUpPos                  51604 non-null  int64\n",
      " 4   I_xBotInPosDischargPickPlace  51604 non-null  int64\n",
      " 5   I_xBottelInPos0               51604 non-null  int64\n",
      " 6   I_xBottelInPos2               51604 non-null  int64\n",
      " 7   I_xBottelInPos4               51604 non-null  int64\n",
      " 8   I_xBottelInPos6               51604 non-null  int64\n",
      " 9   I_xBottelInPos8               51604 non-null  int64\n",
      " 10  I_xBottleAtGateOne            51604 non-null  int64\n",
      " 11  I_xBottleFixIsClosed          51604 non-null  int64\n",
      " 12  I_xBottleFixIsOpen            51604 non-null  int64\n",
      " 13  I_xCamBottleIsFilled          51604 non-null  int64\n",
      " 14  I_xCamCapOnBottle             51604 non-null  int64\n",
      " 15  I_xCamTrigSensor              51604 non-null  int64\n",
      " 16  I_xCapInClaw                  51604 non-null  int64\n",
      " 17  I_xCapInHolder                51604 non-null  int64\n",
      " 18  I_xClawIsDown                 51604 non-null  int64\n",
      " 19  I_xClawIsUp                   51604 non-null  int64\n",
      " 20  I_xDisposerTrigger            51604 non-null  int64\n",
      " 21  I_xFullBottelOnTS1            51604 non-null  int64\n",
      " 22  I_xGate1Closed                51604 non-null  int64\n",
      " 23  I_xHeavyConThere              51604 non-null  int64\n",
      " 24  I_xKeySwitchPos1              51604 non-null  int64\n",
      " 25  I_xKeySwitchPos2              51604 non-null  int64\n",
      " 26  I_xLeftCbFullAtTS1            51604 non-null  int64\n",
      " 27  I_xNotAusPickPlace            51604 non-null  int64\n",
      " 28  I_xOffButtonSta7              51604 non-null  int64\n",
      " 29  I_xOnButtonSta7               51604 non-null  int64\n",
      " 30  I_xOneStepPickPlace           51604 non-null  int64\n",
      " 31  I_xQuitButtonSta7             51604 non-null  int64\n",
      " 32  I_xRotTabSoltInPos            51604 non-null  int64\n",
      " 33  I_xS2B0                       51604 non-null  int64\n",
      " 34  I_xS2B10                      51604 non-null  int64\n",
      " 35  I_xSilo1MinFull               51604 non-null  int64\n",
      " 36  I_xSilo2MinFull               51604 non-null  int64\n",
      " 37  I_xSpinClawIsDown             51604 non-null  int64\n",
      " 38  I_xSpinClawIsOpen             51604 non-null  int64\n",
      " 39  I_xSpinClawIsUp               51604 non-null  int64\n",
      " 40  I_xSpinDriveIsClosed          51604 non-null  int64\n",
      " 41  I_xSpinDriveIsOpened          51604 non-null  int64\n",
      " 42  O_xAspirator1                 51604 non-null  int64\n",
      " 43  O_xAspirator2                 51604 non-null  int64\n",
      " 44  O_xAspirator3                 51604 non-null  int64\n",
      " 45  O_xAspirator4                 51604 non-null  int64\n",
      " 46  O_xAuger                      51604 non-null  int64\n",
      " 47  O_xBottleFillingDisposer      51604 non-null  int64\n",
      " 48  O_xBotTurnToDischargePos      51604 non-null  int64\n",
      " 49  O_xBotTurnToHomePos           51604 non-null  int64\n",
      " 50  O_xCapConveyorBeltOnSta6      51604 non-null  int64\n",
      " 51  O_xCapConveyorBeltRightSta6   51604 non-null  int64\n",
      " 52  O_xClawClose                  51604 non-null  int64\n",
      " 53  O_xClawDriveDown              51604 non-null  int64\n",
      " 54  O_xConveyorBelt               51604 non-null  int64\n",
      " 55  O_xConveyorBeltOneSta6        51604 non-null  int64\n",
      " 56  O_xConveyorBeltTwoSta6        51604 non-null  int64\n",
      " 57  O_xDischargeClawClosing       51604 non-null  int64\n",
      " 58  O_xDischargeClawOpening       51604 non-null  int64\n",
      " 59  O_xFixBottle                  51604 non-null  int64\n",
      " 60  O_xGate1Opening               51604 non-null  int64\n",
      " 61  O_xLinearAxisDriveDown        51604 non-null  int64\n",
      " 62  O_xLinearAxisDriveUp          51604 non-null  int64\n",
      " 63  O_xMainCB1                    51604 non-null  int64\n",
      " 64  O_xMainCB2                    51604 non-null  int64\n",
      " 65  O_xMainCB3                    51604 non-null  int64\n",
      " 66  O_xMuscleTrigger              51604 non-null  int64\n",
      " 67  O_xPowerOnSta4_5              51604 non-null  int64\n",
      " 68  O_xPreasureOffSta4_5          51604 non-null  int64\n",
      " 69  O_xPreasureOnSta4_5           51604 non-null  int64\n",
      " 70  O_xPutCapOnCbPickPlace        51604 non-null  int64\n",
      " 71  O_xResetSta7                  51604 non-null  int64\n",
      " 72  O_xRotaryTableDriveOn         51604 non-null  int64\n",
      " 73  O_xSoftNotAus2Sta7            51604 non-null  int64\n",
      " 74  O_xSpinClawClose              51604 non-null  int64\n",
      " 75  O_xSpinClawDriveDown          51604 non-null  int64\n",
      " 76  O_xSpinDriveClosing           51604 non-null  int64\n",
      " 77  O_xSpinDriveOpening           51604 non-null  int64\n",
      " 78  O_xSt7SpinDriveClosing        51604 non-null  int64\n",
      " 79  O_xSt7SpinDriveOpening        51604 non-null  int64\n",
      " 80  O_xTiggerCamIN                51604 non-null  int64\n",
      " 81  O_xTS1LeftToFilling           51604 non-null  int64\n",
      " 82  O_xTS1RightToStorage          51604 non-null  int64\n",
      " 83  O_xTS2LeftToStorage           51604 non-null  int64\n",
      " 84  O_xTS2RightToFilling          51604 non-null  int64\n",
      " 85  O_xUnlockSta7                 51604 non-null  int64\n",
      " 86  ProcessCycle                  51604 non-null  int64\n",
      "dtypes: int64(87)\n",
      "memory usage: 34.6 MB\n"
     ]
    }
   ],
   "source": [
    "X_train.info()"
   ]
  },
  {
   "cell_type": "code",
   "execution_count": 10,
   "metadata": {},
   "outputs": [
    {
     "data": {
      "image/png": "[encoded data removed]",
      "text/plain": [
       "<Figure size 720x720 with 1 Axes>"
      ]
     },
     "metadata": {
      "needs_background": "light"
     },
     "output_type": "display_data"
    }
   ],
   "source": [
    "plt.figure(figsize = (10, 10))\n",
    "plt.scatter(pca_2d[:,0], pca_2d[:,1], c = y_train)\n",
    "plt.title('PCA scatter plot')\n",
    "plt.show()"
   ]
  },
  {
   "cell_type": "code",
   "execution_count": 12,
   "metadata": {},
   "outputs": [],
   "source": [
    "from sklearn.linear_model import LogisticRegression, LogisticRegressionCV, SGDClassifier\n",
    "from sklearn.model_selection import GridSearchCV"
   ]
  },
  {
   "cell_type": "code",
   "execution_count": 13,
   "metadata": {},
   "outputs": [
    {
     "data": {
      "text/plain": [
       "SGDClassifier(alpha=0.0001, average=False, class_weight=None,\n",
       "              early_stopping=False, epsilon=0.1, eta0=0.0, fit_intercept=True,\n",
       "              l1_ratio=0.15, learning_rate='optimal', loss='log', max_iter=1000,\n",
       "              n_iter_no_change=5, n_jobs=None, penalty='l2', power_t=0.5,\n",
       "              random_state=None, shuffle=True, tol=0.001,\n",
       "              validation_fraction=0.1, verbose=0, warm_start=False)"
      ]
     },
     "execution_count": 13,
     "metadata": {},
     "output_type": "execute_result"
    }
   ],
   "source": [
    "#Erstellen und Fitten des Modells auf Trainingsdaten\n",
    "logmodel = LogisticRegression(solver=\"liblinear\", max_iter=250)\n",
    "#logmodel = LogisticRegressionCV(cv= 5, class_weight=\"balanced\")\n",
    "logmodel.fit(X_train,y_train)\n",
    "\n",
    "sgdmodel = SGDClassifier(loss=\"log\")\n",
    "sgdmodel.fit(X_train,y_train)"
   ]
  },
  {
   "cell_type": "code",
   "execution_count": 36,
   "metadata": {},
   "outputs": [
    {
     "name": "stdout",
     "output_type": "stream",
     "text": [
      "Model: \"sequential_2\"\n",
      "_________________________________________________________________\n",
      "Layer (type)                 Output Shape              Param #   \n",
      "=================================================================\n",
      "dense_4 (Dense)              (None, 32)                2816      \n",
      "_________________________________________________________________\n",
      "dropout_3 (Dropout)          (None, 32)                0         \n",
      "_________________________________________________________________\n",
      "dense_5 (Dense)              (None, 32)                1056      \n",
      "_________________________________________________________________\n",
      "dropout_4 (Dropout)          (None, 32)                0         \n",
      "_________________________________________________________________\n",
      "dense_6 (Dense)              (None, 1)                 33        \n",
      "=================================================================\n",
      "Total params: 3,905\n",
      "Trainable params: 3,905\n",
      "Non-trainable params: 0\n",
      "_________________________________________________________________\n",
      "None\n"
     ]
    }
   ],
   "source": [
    "from keras.models import Sequential\n",
    "from keras.layers import Dense, Dropout\n",
    "from keras.optimizers import SGD, Adam\n",
    "from keras.regularizers import l2\n",
    "\n",
    "model = Sequential()\n",
    "\n",
    "model.add(Dense(32, input_shape=(X_train.shape[1],), activation='relu')) \n",
    "model.add(Dropout(0.5))\n",
    "model.add(Dense(32, activation='relu'))\n",
    "model.add(Dropout(0.5))\n",
    "model.add(Dense(1, activation='sigmoid'))\n",
    "\n",
    "model.compile(\n",
    "    loss='binary_crossentropy', # loss\n",
    "    optimizer=\"rmsprop\", # learning rule\n",
    "    #optimizer=Adam(), # learning rule\n",
    "    metrics=['accuracy'] # show accuracy\n",
    ")\n",
    "\n",
    "print(model.summary())"
   ]
  },
  {
   "cell_type": "code",
   "execution_count": 37,
   "metadata": {},
   "outputs": [
    {
     "name": "stdout",
     "output_type": "stream",
     "text": [
      "Train on 41283 samples, validate on 10321 samples\n",
      "Epoch 1/20\n",
      "41283/41283 [==============================] - 1s 23us/step - loss: 1283.5745 - accuracy: 0.7008 - val_loss: 0.6313 - val_accuracy: 0.8227\n",
      "Epoch 2/20\n",
      "41283/41283 [==============================] - 1s 16us/step - loss: 2.8429 - accuracy: 0.8072 - val_loss: 0.5167 - val_accuracy: 0.8227\n",
      "Epoch 3/20\n",
      "41283/41283 [==============================] - 1s 16us/step - loss: 0.5171 - accuracy: 0.8292 - val_loss: 0.4969 - val_accuracy: 0.8227\n",
      "Epoch 4/20\n",
      "41283/41283 [==============================] - 1s 16us/step - loss: 0.5257 - accuracy: 0.8292 - val_loss: 0.4662 - val_accuracy: 0.8227\n",
      "Epoch 5/20\n",
      "41283/41283 [==============================] - 1s 15us/step - loss: 0.4799 - accuracy: 0.8292 - val_loss: 0.4664 - val_accuracy: 0.8227\n",
      "Epoch 6/20\n",
      "41283/41283 [==============================] - 1s 19us/step - loss: 0.5246 - accuracy: 0.8292 - val_loss: 0.4667 - val_accuracy: 0.8227\n",
      "Epoch 7/20\n",
      "41283/41283 [==============================] - 1s 19us/step - loss: 0.6749 - accuracy: 0.8290 - val_loss: 0.4643 - val_accuracy: 0.8227\n",
      "Epoch 8/20\n",
      "41283/41283 [==============================] - 1s 22us/step - loss: 0.5430 - accuracy: 0.8292 - val_loss: 0.4662 - val_accuracy: 0.8227\n",
      "Epoch 9/20\n",
      "41283/41283 [==============================] - 1s 21us/step - loss: 0.6225 - accuracy: 0.8289 - val_loss: 0.4662 - val_accuracy: 0.8227\n",
      "Epoch 10/20\n",
      "41283/41283 [==============================] - 1s 21us/step - loss: 0.5906 - accuracy: 0.8292 - val_loss: 0.4661 - val_accuracy: 0.8227\n",
      "Epoch 11/20\n",
      "41283/41283 [==============================] - 1s 21us/step - loss: 0.7056 - accuracy: 0.8285 - val_loss: 0.4628 - val_accuracy: 0.8227\n",
      "Epoch 12/20\n",
      "41283/41283 [==============================] - 1s 21us/step - loss: 0.6299 - accuracy: 0.8284 - val_loss: 0.4647 - val_accuracy: 0.8227\n",
      "Epoch 13/20\n",
      "41283/41283 [==============================] - 1s 20us/step - loss: 0.6570 - accuracy: 0.8287 - val_loss: 0.4503 - val_accuracy: 0.8227\n",
      "Epoch 14/20\n",
      "41283/41283 [==============================] - 1s 20us/step - loss: 0.7184 - accuracy: 0.8273 - val_loss: 0.4647 - val_accuracy: 0.8227\n",
      "Epoch 15/20\n",
      "41283/41283 [==============================] - 1s 20us/step - loss: 0.6539 - accuracy: 0.8274 - val_loss: 0.4653 - val_accuracy: 0.8227\n",
      "Epoch 16/20\n",
      "41283/41283 [==============================] - 1s 24us/step - loss: 0.5245 - accuracy: 0.8278 - val_loss: 0.4657 - val_accuracy: 0.8227\n",
      "Epoch 17/20\n",
      "41283/41283 [==============================] - 1s 21us/step - loss: 0.5418 - accuracy: 0.8281 - val_loss: 0.4650 - val_accuracy: 0.8227\n",
      "Epoch 18/20\n",
      "41283/41283 [==============================] - 1s 21us/step - loss: 0.5504 - accuracy: 0.8274 - val_loss: 0.4655 - val_accuracy: 0.8227\n",
      "Epoch 19/20\n",
      "41283/41283 [==============================] - 1s 20us/step - loss: 0.5127 - accuracy: 0.8275 - val_loss: 0.4650 - val_accuracy: 0.8227\n",
      "Epoch 20/20\n",
      "41283/41283 [==============================] - 1s 20us/step - loss: 0.5354 - accuracy: 0.8271 - val_loss: 0.4636 - val_accuracy: 0.8227\n"
     ]
    },
    {
     "data": {
      "text/plain": [
       "<keras.callbacks.callbacks.History at 0x10fc171edf0>"
      ]
     },
     "execution_count": 37,
     "metadata": {},
     "output_type": "execute_result"
    }
   ],
   "source": [
    "# Train the linear classifier on the extracted features\n",
    "model.fit(x=X_train, y=y_train, batch_size=128, epochs=20, validation_split=0.2)"
   ]
  },
  {
   "cell_type": "code",
   "execution_count": 41,
   "metadata": {},
   "outputs": [],
   "source": [
    "from sklearn.neural_network import MLPClassifier\n",
    "mlp = MLPClassifier(activation=\"logistic\")\n",
    "mlp.fit(X_train,y_train)\n",
    "y_pred_mlp = mlp.predict_proba(X_test)[:, 1]"
   ]
  },
  {
   "cell_type": "code",
   "execution_count": 42,
   "metadata": {},
   "outputs": [],
   "source": [
    "from sklearn import metrics\n",
    "from sklearn.metrics import roc_curve, auc"
   ]
  },
  {
   "cell_type": "code",
   "execution_count": 15,
   "metadata": {},
   "outputs": [
    {
     "ename": "NameError",
     "evalue": "name 'evaluation_auc' is not defined",
     "output_type": "error",
     "traceback": [
      "\u001b[1;31m---------------------------------------------------------------------------\u001b[0m",
      "\u001b[1;31mNameError\u001b[0m                                 Traceback (most recent call last)",
      "\u001b[1;32m<ipython-input-15-c07d84428d76>\u001b[0m in \u001b[0;36m<module>\u001b[1;34m\u001b[0m\n\u001b[1;32m----> 1\u001b[1;33m \u001b[0mevaluation_auc\u001b[0m\u001b[1;33m(\u001b[0m\u001b[0mlogmodel\u001b[0m\u001b[1;33m)\u001b[0m\u001b[1;33m\u001b[0m\u001b[1;33m\u001b[0m\u001b[0m\n\u001b[0m",
      "\u001b[1;31mNameError\u001b[0m: name 'evaluation_auc' is not defined"
     ]
    }
   ],
   "source": [
    "evaluation_auc(logmodel)"
   ]
  },
  {
   "cell_type": "code",
   "execution_count": null,
   "metadata": {},
   "outputs": [],
   "source": []
  },
  {
   "cell_type": "code",
   "execution_count": 19,
   "metadata": {},
   "outputs": [
    {
     "name": "stdout",
     "output_type": "stream",
     "text": [
      "[[18029   207]\n",
      " [ 3814    67]]\n",
      "\n",
      "\n",
      "              precision    recall  f1-score   support\n",
      "\n",
      "           0       0.83      0.99      0.90     18236\n",
      "           1       0.24      0.02      0.03      3881\n",
      "\n",
      "    accuracy                           0.82     22117\n",
      "   macro avg       0.53      0.50      0.47     22117\n",
      "weighted avg       0.72      0.82      0.75     22117\n",
      "\n"
     ]
    },
    {
     "data": {
      "image/png": "[encoded data removed]",
      "text/plain": [
       "<Figure size 432x288 with 2 Axes>"
      ]
     },
     "metadata": {
      "needs_background": "light"
     },
     "output_type": "display_data"
    }
   ],
   "source": [
    "evaluation(logmodel.predict(X_test))"
   ]
  },
  {
   "cell_type": "code",
   "execution_count": 16,
   "metadata": {},
   "outputs": [],
   "source": [
    "def evaluation(predictions):\n",
    "    #Auswertung durch Confusion Matrix und dem Built-In Report von Sklearn\n",
    "    cnf_matrix = metrics.confusion_matrix(y_test,predictions)\n",
    "    print(cnf_matrix)\n",
    "    print(\"\\n\")\n",
    "    print(metrics.classification_report(y_test, predictions))\n",
    "\n",
    "    class_names=[0,1] # name  of classes\n",
    "    fig, ax = plt.subplots()\n",
    "    tick_marks = np.arange(len(class_names))\n",
    "    plt.xticks(tick_marks, class_names)\n",
    "    plt.yticks(tick_marks, class_names)\n",
    "    # create heatmap\n",
    "    sns.heatmap(pd.DataFrame(cnf_matrix), annot=True, cmap=\"YlGnBu\" ,fmt='g')\n",
    "    ax.xaxis.set_label_position(\"top\")\n",
    "    plt.tight_layout()\n",
    "    plt.title('Confusion matrix', y=1.1)\n",
    "    plt.ylabel('Actual label')\n",
    "    plt.xlabel('Predicted label')\n"
   ]
  },
  {
   "cell_type": "code",
   "execution_count": 17,
   "metadata": {},
   "outputs": [],
   "source": [
    "def evaluation_auc(model):\n",
    "    #AUC als Performanceindikator der alle möglichen Thresholds aggregiert. Je höher der AUC, also die Fläche unter der ROC-Kurve ist,\n",
    "    #desto besser kann eine Klasse bestimmt werden. Jedoch ist ein AUC von 0.5 ein Indiz für eine nicht erfolgreiche Bestimmung der Klassen\n",
    "    y_pred_proba = model.predict_proba(X_test)[::,1]\n",
    "    fpr, tpr, _ = metrics.roc_curve(y_test,  y_pred_proba)\n",
    "    auc = metrics.roc_auc_score(y_test, y_pred_proba)\n",
    "    plt.plot(fpr,tpr,label=\"data 1, auc=\"+str(auc))\n",
    "    plt.legend(loc=4)\n",
    "    plt.ylabel('True Positive Rate')\n",
    "    plt.xlabel('False Positive Rate')\n",
    "    plt.show()\n",
    "    "
   ]
  },
  {
   "cell_type": "code",
   "execution_count": null,
   "metadata": {},
   "outputs": [],
   "source": []
  }
 ],
 "metadata": {
  "kernelspec": {
   "display_name": "Python 3",
   "language": "python",
   "name": "python3"
  },
  "language_info": {
   "codemirror_mode": {
    "name": "ipython",
    "version": 3
   },
   "file_extension": ".py",
   "mimetype": "text/x-python",
   "name": "python",
   "nbconvert_exporter": "python",
   "pygments_lexer": "ipython3",
   "version": "3.8.3"
  }
 },
 "nbformat": 4,
 "nbformat_minor": 4
}

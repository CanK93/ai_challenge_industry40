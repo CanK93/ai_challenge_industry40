{
 "cells": [
  {
   "cell_type": "code",
   "execution_count": 6,
   "metadata": {},
   "outputs": [],
   "source": [
    "import numpy as np "
   ]
  },
  {
   "cell_type": "code",
   "execution_count": 7,
   "metadata": {},
   "outputs": [],
   "source": [
    "#Build the char index that we will use to encode seqs to numbers \n",
    "#(this char index was written by Jason Brownlee from Machine Learning Mastery)\n",
    "char_index = '0abcdefghijklmnopqrstuvwxyz'\n",
    "char_index +='ABCDEFGHIJKLMNOPQRSTUVWXYZ'\n",
    "char_index += '123456789'\n",
    "char_index += '().,-/+=&$?@#!*:;_[]|%⸏{}\\\"\\'' + ' ' +'\\\\'\n",
    "\n",
    "char_to_int = dict((c, i) for i, c in enumerate(char_index))\n",
    "int_to_char = dict((i, c) for i, c in enumerate(char_index))\n",
    "\n",
    "from keras.preprocessing.sequence import pad_sequences\n",
    "#function that convert a char seqs to numbers seqs \n",
    "#(it does a little more but lets leave it for now)\n",
    "def encode_sequence_list(seqs, feat_n=0):\n",
    "    encoded_seqs = []\n",
    "    for seq in seqs:\n",
    "        encoded_seq = [char_to_int[c] for c in seq]\n",
    "        encoded_seqs.append(encoded_seq)\n",
    "    if(feat_n > 0):\n",
    "        encoded_seqs.append(np.zeros(feat_n))\n",
    "    return pad_sequences(encoded_seqs, padding='post')\n",
    "\n",
    "def decode_sequence_list(seqs):\n",
    "    decoded_seqs = []\n",
    "    for seq in seqs:\n",
    "        decoded_seq = [int_to_char[i] for i in seq]\n",
    "        decoded_seqs.append(decoded_seq)\n",
    "    return decoded_seqs\n",
    "    \n",
    "# Using the char_index, the encode_sequence_list function\n",
    "# will turn a string like this EBCA0OXO \n",
    "#to an array like this [29 32 27 27  0 42 42 38]\n",
    "\n",
    "# encode each string seq to an integer array [[1],[5],[67]], [[45],[76],[7]\n",
    "encoded_seqs = encode_sequence_list(random_sequences)\n",
    "# mix everything up\n",
    "np.random.shuffle(encoded_seqs)"
   ]
  },
  {
   "cell_type": "code",
   "execution_count": 25,
   "metadata": {},
   "outputs": [],
   "source": [
    "df_test = pd.read_csv(\"ValidationDataConveyor.csv\")\n",
    "df_train = pd.read_csv(\"TrainingDataConveyor.csv\")"
   ]
  },
  {
   "cell_type": "code",
   "execution_count": 43,
   "metadata": {},
   "outputs": [
    {
     "data": {
      "text/plain": [
       "numpy.ndarray"
      ]
     },
     "execution_count": 43,
     "metadata": {},
     "output_type": "execute_result"
    }
   ],
   "source": [
    "type(df_test.values)"
   ]
  },
  {
   "cell_type": "code",
   "execution_count": 28,
   "metadata": {},
   "outputs": [],
   "source": [
    "#Scale our data using a MinMaxScaler that will scale \n",
    "#each number so that it will be between 0 and 1\n",
    "from sklearn.preprocessing import StandardScaler, MinMaxScaler\n",
    "scaler = MinMaxScaler()\n",
    "scaled_seqs = scaler.fit_transform(df_test)\n",
    "#Create a test and train sets of our data\n",
    "X_train = scaled_seqs[:2000]\n",
    "X_test = scaled_seqs[2000:]"
   ]
  },
  {
   "cell_type": "code",
   "execution_count": 34,
   "metadata": {},
   "outputs": [],
   "source": [
    "from keras.models import Model, load_model\n",
    "from keras.layers import Input, Dense, Dropout, LSTM\n",
    "from keras.callbacks import ModelCheckpoint, TensorBoard\n",
    "from keras import regularizers\n",
    "\n",
    "input_dim = X_train.shape[1] #features\n",
    "encoding_dim = 20\n",
    "hidden_dim = int(encoding_dim / 2)\n",
    "\n",
    "nb_epoch = 30\n",
    "batch_size = 128\n",
    "learning_rate = 0.1\n",
    "\n",
    "input_layer = Input(shape=(input_dim, ))\n",
    "\n",
    "encoder = Dense(encoding_dim, activation=\"tanh\", activity_regularizer=regularizers.l1(10e-5))(input_layer)\n",
    "encoder = Dense(hidden_dim, activation=\"relu\")(encoder)\n",
    "decoder = Dense(hidden_dim, activation='relu')(encoder)\n",
    "decoder = Dense(encoding_dim, activation='relu')(encoder)\n",
    "decoder = Dense(input_dim, activation='tanh')(decoder)\n",
    "\n",
    "autoencoder = Model(inputs=input_layer, outputs=decoder)"
   ]
  },
  {
   "cell_type": "code",
   "execution_count": 35,
   "metadata": {},
   "outputs": [
    {
     "name": "stdout",
     "output_type": "stream",
     "text": [
      "Train on 2000 samples, validate on 444 samples\n",
      "Epoch 1/30\n",
      "2000/2000 [==============================] - 1s 397us/step - loss: 0.3914 - accuracy: 0.0000e+00 - val_loss: 0.3249 - val_accuracy: 0.0495\n",
      "Epoch 2/30\n",
      "2000/2000 [==============================] - 0s 12us/step - loss: 0.2932 - accuracy: 0.0540 - val_loss: 0.2614 - val_accuracy: 0.1622\n",
      "Epoch 3/30\n",
      "2000/2000 [==============================] - 0s 14us/step - loss: 0.2403 - accuracy: 0.1590 - val_loss: 0.2209 - val_accuracy: 0.2950\n",
      "Epoch 4/30\n",
      "2000/2000 [==============================] - 0s 14us/step - loss: 0.2045 - accuracy: 0.2050 - val_loss: 0.1912 - val_accuracy: 0.2162\n"
     ]
    },
    {
     "name": "stderr",
     "output_type": "stream",
     "text": [
      "C:\\Users\\cyk\\AppData\\Roaming\\Python\\Python38\\site-packages\\keras\\callbacks\\callbacks.py:92: RuntimeWarning: Method (on_train_batch_end) is slow compared to the batch update (0.323305). Check your callbacks.\n",
      "  warnings.warn(\n"
     ]
    },
    {
     "name": "stdout",
     "output_type": "stream",
     "text": [
      "Epoch 5/30\n",
      "2000/2000 [==============================] - 0s 17us/step - loss: 0.1781 - accuracy: 0.1735 - val_loss: 0.1688 - val_accuracy: 0.2207\n",
      "Epoch 6/30\n",
      "2000/2000 [==============================] - 0s 13us/step - loss: 0.1584 - accuracy: 0.1870 - val_loss: 0.1517 - val_accuracy: 0.1892\n",
      "Epoch 7/30\n",
      "2000/2000 [==============================] - 0s 17us/step - loss: 0.1435 - accuracy: 0.1835 - val_loss: 0.1383 - val_accuracy: 0.1824\n",
      "Epoch 8/30\n",
      "2000/2000 [==============================] - 0s 14us/step - loss: 0.1312 - accuracy: 0.1760 - val_loss: 0.1256 - val_accuracy: 0.1712\n",
      "Epoch 9/30\n",
      "2000/2000 [==============================] - 0s 12us/step - loss: 0.1190 - accuracy: 0.1655 - val_loss: 0.1139 - val_accuracy: 0.1644\n",
      "Epoch 10/30\n",
      "2000/2000 [==============================] - 0s 14us/step - loss: 0.1077 - accuracy: 0.1630 - val_loss: 0.1035 - val_accuracy: 0.1689\n",
      "Epoch 11/30\n",
      "2000/2000 [==============================] - 0s 13us/step - loss: 0.0979 - accuracy: 0.2185 - val_loss: 0.0956 - val_accuracy: 0.1959\n",
      "Epoch 12/30\n",
      "2000/2000 [==============================] - 0s 12us/step - loss: 0.0902 - accuracy: 0.2300 - val_loss: 0.0896 - val_accuracy: 0.1959\n",
      "Epoch 13/30\n",
      "2000/2000 [==============================] - ETA: 0s - loss: 0.0904 - accuracy: 0.25 - 0s 12us/step - loss: 0.0840 - accuracy: 0.2275 - val_loss: 0.0849 - val_accuracy: 0.1824\n",
      "Epoch 14/30\n",
      "2000/2000 [==============================] - 0s 13us/step - loss: 0.0791 - accuracy: 0.2315 - val_loss: 0.0810 - val_accuracy: 0.2365\n",
      "Epoch 15/30\n",
      "2000/2000 [==============================] - 0s 15us/step - loss: 0.0750 - accuracy: 0.2835 - val_loss: 0.0778 - val_accuracy: 0.2770\n",
      "Epoch 16/30\n",
      "2000/2000 [==============================] - 0s 12us/step - loss: 0.0717 - accuracy: 0.3185 - val_loss: 0.0750 - val_accuracy: 0.3311\n",
      "Epoch 17/30\n",
      "2000/2000 [==============================] - 0s 15us/step - loss: 0.0687 - accuracy: 0.3450 - val_loss: 0.0726 - val_accuracy: 0.3446\n",
      "Epoch 18/30\n",
      "2000/2000 [==============================] - 0s 17us/step - loss: 0.0661 - accuracy: 0.3580 - val_loss: 0.0704 - val_accuracy: 0.3446\n",
      "Epoch 19/30\n",
      "2000/2000 [==============================] - 0s 12us/step - loss: 0.0638 - accuracy: 0.3625 - val_loss: 0.0683 - val_accuracy: 0.3514\n",
      "Epoch 20/30\n",
      "2000/2000 [==============================] - ETA: 0s - loss: 0.0663 - accuracy: 0.38 - 0s 13us/step - loss: 0.0617 - accuracy: 0.3675 - val_loss: 0.0664 - val_accuracy: 0.3378\n",
      "Epoch 21/30\n",
      "2000/2000 [==============================] - 0s 14us/step - loss: 0.0598 - accuracy: 0.3610 - val_loss: 0.0646 - val_accuracy: 0.3356\n",
      "Epoch 22/30\n",
      "2000/2000 [==============================] - ETA: 0s - loss: 0.0599 - accuracy: 0.36 - 0s 11us/step - loss: 0.0579 - accuracy: 0.3585 - val_loss: 0.0629 - val_accuracy: 0.3356\n",
      "Epoch 23/30\n",
      "2000/2000 [==============================] - 0s 13us/step - loss: 0.0562 - accuracy: 0.3485 - val_loss: 0.0611 - val_accuracy: 0.3221\n",
      "Epoch 24/30\n",
      "2000/2000 [==============================] - 0s 12us/step - loss: 0.0545 - accuracy: 0.3420 - val_loss: 0.0595 - val_accuracy: 0.3198\n",
      "Epoch 25/30\n",
      "2000/2000 [==============================] - 0s 11us/step - loss: 0.0529 - accuracy: 0.3390 - val_loss: 0.0579 - val_accuracy: 0.3018\n",
      "Epoch 26/30\n",
      "2000/2000 [==============================] - 0s 14us/step - loss: 0.0513 - accuracy: 0.3280 - val_loss: 0.0564 - val_accuracy: 0.2838\n",
      "Epoch 27/30\n",
      "2000/2000 [==============================] - 0s 12us/step - loss: 0.0498 - accuracy: 0.3175 - val_loss: 0.0548 - val_accuracy: 0.2703\n",
      "Epoch 28/30\n",
      "2000/2000 [==============================] - 0s 12us/step - loss: 0.0484 - accuracy: 0.3040 - val_loss: 0.0532 - val_accuracy: 0.2613\n",
      "Epoch 29/30\n",
      "2000/2000 [==============================] - 0s 12us/step - loss: 0.0469 - accuracy: 0.3030 - val_loss: 0.0520 - val_accuracy: 0.2477\n",
      "Epoch 30/30\n",
      "2000/2000 [==============================] - 0s 10us/step - loss: 0.0456 - accuracy: 0.3065 - val_loss: 0.0505 - val_accuracy: 0.2477\n"
     ]
    }
   ],
   "source": [
    "autoencoder.compile(optimizer='adam', \n",
    "                    loss='mean_squared_error', \n",
    "                    metrics=['accuracy'])\n",
    "\n",
    "checkpointer = ModelCheckpoint(filepath=\"model_seqs2.h5\",\n",
    "                               verbose=0,\n",
    "                               save_best_only=True)\n",
    "\n",
    "tensorboard = TensorBoard(log_dir='./logs',\n",
    "                          histogram_freq=0,\n",
    "                          write_graph=True,\n",
    "                          write_images=True)\n",
    "\n",
    "history = autoencoder.fit(X_train, X_train,\n",
    "                    epochs=nb_epoch,\n",
    "                    batch_size=batch_size,\n",
    "                    shuffle=True,\n",
    "                    validation_data=(X_test, X_test),\n",
    "                    verbose=1,\n",
    "                    callbacks=[checkpointer, tensorboard]).history"
   ]
  },
  {
   "cell_type": "code",
   "execution_count": 36,
   "metadata": {},
   "outputs": [
    {
     "data": {
      "image/png": "[encoded data removed]",
      "text/plain": [
       "<Figure size 432x288 with 1 Axes>"
      ]
     },
     "metadata": {
      "needs_background": "light"
     },
     "output_type": "display_data"
    }
   ],
   "source": [
    "import matplotlib.pyplot as plt\n",
    "plt.plot(history['loss'])\n",
    "plt.plot(history['val_loss'])\n",
    "plt.title('model loss')\n",
    "plt.ylabel('loss')\n",
    "plt.xlabel('epoch')\n",
    "plt.legend(['train', 'test'], loc='upper right');"
   ]
  },
  {
   "cell_type": "code",
   "execution_count": 37,
   "metadata": {},
   "outputs": [
    {
     "name": "stdout",
     "output_type": "stream",
     "text": [
      "MSE: 0.09857319242600582\n"
     ]
    }
   ],
   "source": [
    "#get the MSE error term\n",
    "predictions = autoencoder.predict(scaled_seqs)\n",
    "mse = np.mean(np.power(scaled_seqs - predictions, 2), axis=1)\n",
    "print('MSE:', np.quantile(mse, 0.9999)) # => the 9999% quatile - only 0.0001% have error score higher than that"
   ]
  },
  {
   "cell_type": "code",
   "execution_count": 49,
   "metadata": {},
   "outputs": [],
   "source": [
    "#scale it\n",
    "scaled_data = MinMaxScaler().fit_transform(df_test.values)\n",
    "#predict it\n",
    "predicted = autoencoder.predict(scaled_data)\n",
    "#get the error term\n",
    "mse = np.mean(np.power(scaled_data - predicted, 2), axis=1)\n",
    "#now add them to our data frame\n",
    "df_test['MSE'] = mse"
   ]
  },
  {
   "cell_type": "code",
   "execution_count": 53,
   "metadata": {},
   "outputs": [
    {
     "name": "stdout",
     "output_type": "stream",
     "text": [
      "MSE 0.9999 threshhold:0.09857319242600582\n",
      "Num of MSE outlier:1\n"
     ]
    },
    {
     "data": {
      "text/html": [
       "<div>\n",
       "<style scoped>\n",
       "    .dataframe tbody tr th:only-of-type {\n",
       "        vertical-align: middle;\n",
       "    }\n",
       "\n",
       "    .dataframe tbody tr th {\n",
       "        vertical-align: top;\n",
       "    }\n",
       "\n",
       "    .dataframe thead th {\n",
       "        text-align: right;\n",
       "    }\n",
       "</style>\n",
       "<table border=\"1\" class=\"dataframe\">\n",
       "  <thead>\n",
       "    <tr style=\"text-align: right;\">\n",
       "      <th></th>\n",
       "      <th>Timestamp</th>\n",
       "      <th>MSE_Outlier</th>\n",
       "    </tr>\n",
       "  </thead>\n",
       "  <tbody>\n",
       "    <tr>\n",
       "      <th>0</th>\n",
       "      <td>0.000000</td>\n",
       "      <td>0</td>\n",
       "    </tr>\n",
       "    <tr>\n",
       "      <th>1</th>\n",
       "      <td>0.084000</td>\n",
       "      <td>0</td>\n",
       "    </tr>\n",
       "    <tr>\n",
       "      <th>2</th>\n",
       "      <td>0.139000</td>\n",
       "      <td>0</td>\n",
       "    </tr>\n",
       "    <tr>\n",
       "      <th>3</th>\n",
       "      <td>0.182999</td>\n",
       "      <td>0</td>\n",
       "    </tr>\n",
       "    <tr>\n",
       "      <th>4</th>\n",
       "      <td>0.247002</td>\n",
       "      <td>0</td>\n",
       "    </tr>\n",
       "  </tbody>\n",
       "</table>\n",
       "</div>"
      ],
      "text/plain": [
       "   Timestamp  MSE_Outlier\n",
       "0   0.000000            0\n",
       "1   0.084000            0\n",
       "2   0.139000            0\n",
       "3   0.182999            0\n",
       "4   0.247002            0"
      ]
     },
     "execution_count": 53,
     "metadata": {},
     "output_type": "execute_result"
    }
   ],
   "source": [
    "mse_threshold = np.quantile(df_test['MSE'], 0.9999)\n",
    "print(f'MSE 0.9999 threshhold:{mse_threshold}')\n",
    "\n",
    "df_test['MSE_Outlier'] = 0\n",
    "df_test.loc[df_test['MSE'] > mse_threshold, 'MSE_Outlier'] = 1\n",
    "\n",
    "print(f\"Num of MSE outlier:{df_test['MSE_Outlier'].sum()}\")\n",
    "\n",
    "df_test[[\"Timestamp\", \"MSE_Outlier\"]].head()"
   ]
  },
  {
   "cell_type": "code",
   "execution_count": null,
   "metadata": {},
   "outputs": [],
   "source": []
  }
 ],
 "metadata": {
  "kernelspec": {
   "display_name": "Python 3",
   "language": "python",
   "name": "python3"
  },
  "language_info": {
   "codemirror_mode": {
    "name": "ipython",
    "version": 3
   },
   "file_extension": ".py",
   "mimetype": "text/x-python",
   "name": "python",
   "nbconvert_exporter": "python",
   "pygments_lexer": "ipython3",
   "version": "3.8.3"
  }
 },
 "nbformat": 4,
 "nbformat_minor": 4
}
